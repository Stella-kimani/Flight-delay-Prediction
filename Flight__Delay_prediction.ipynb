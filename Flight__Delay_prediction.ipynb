{
  "nbformat": 4,
  "nbformat_minor": 0,
  "metadata": {
    "colab": {
      "name": "Flight_ Delay_prediction.ipynb",
      "provenance": [],
      "authorship_tag": "ABX9TyPAh4bp3t5q48GYn1HroPTD",
      "include_colab_link": true
    },
    "kernelspec": {
      "name": "python3",
      "display_name": "Python 3"
    },
    "language_info": {
      "name": "python"
    },
    "accelerator": "GPU"
  },
  "cells": [
    {
      "cell_type": "markdown",
      "metadata": {
        "id": "view-in-github",
        "colab_type": "text"
      },
      "source": [
        "<a href=\"https://colab.research.google.com/github/Stella-kimani/Flight-delay-Prediction/blob/main/Flight__Delay_prediction.ipynb\" target=\"_parent\"><img src=\"https://colab.research.google.com/assets/colab-badge.svg\" alt=\"Open In Colab\"/></a>"
      ]
    },
    {
      "cell_type": "markdown",
      "metadata": {
        "id": "KB9ZSDYBeOBM"
      },
      "source": [
        "Flight delays not only irritate air passengers and disrupt their schedules but also cause :\n",
        "\n",
        "a decrease in efficiency\n",
        "an increase in capital costs, reallocation of flight crews and aircraft\n",
        "an additional crew expenses\n",
        "As a result, on an aggregate basis, an airline's record of flight delays may have a negative impact on passenger demand.\n",
        "\n",
        "This project aims to predict the estimated duration of flight delays per flight\n",
        "\n",
        "This solution proposes to build a flight delay predictive model using Machine Learning techniques. The accurate prediction of flight delays will help all players in the air travel ecosystem to set up effective action plans to reduce the impact of the delays and avoid loss of time, capital and resources."
      ]
    },
    {
      "cell_type": "markdown",
      "metadata": {
        "id": "S3_nxotTehTx"
      },
      "source": [
        "Variable definitions\n",
        "\n",
        "DATOP - Date of flight\n",
        "\n",
        "FLTID - Flight number\n",
        "\n",
        "DEPSTN - Departure point\n",
        "\n",
        "ARRSTN - Arrival point\n",
        "\n",
        "STD - Scheduled Time departure\n",
        "\n",
        "STA - Scheduled Time arrival\n",
        "\n",
        "STATUS - Flight status\n",
        "\n",
        "ETD - Expected Time departure\n",
        "\n",
        "ETA - Expected Time arrival\n",
        "\n",
        "ATD - Actual Time of Departure\n",
        "\n",
        "ATA - Actual Time of arrival\n",
        "\n",
        "DELAY1 - Delay code 1\n",
        "\n",
        "DUR1 - delay time 1\n",
        "\n",
        "DELAY2 - Delay code 2\n",
        "\n",
        "DUR2 - delay time 2\n",
        "\n",
        "DELAY3 - Delay code 3\n",
        "\n",
        "DUR3 - delay time 3\n",
        "\n",
        "DELAY4 - Delay code 4\n",
        "\n",
        "DUR4 - delay time 4\n",
        "\n",
        "AC - Aircraft Code"
      ]
    },
    {
      "cell_type": "code",
      "metadata": {
        "id": "tESXRMWaegYM"
      },
      "source": [
        "import numpy as np\n",
        "import pandas as pd\n",
        "import warnings\n",
        "warnings.filterwarnings('ignore')\n",
        "!pip -qq install catboost\n",
        "import datetime \n",
        "import matplotlib.pyplot as plt\n",
        "plt.style.use('ggplot')\n",
        "import seaborn as sns\n",
        "from catboost import CatBoostRegressor\n",
        "from sklearn.metrics import mean_squared_error\n",
        "from sklearn.model_selection import train_test_split, StratifiedKFold, KFold\n",
        "from sklearn import metrics\n",
        "from sklearn.metrics import mean_squared_error, accuracy_score"
      ],
      "execution_count": 50,
      "outputs": []
    },
    {
      "cell_type": "code",
      "metadata": {
        "colab": {
          "base_uri": "https://localhost:8080/",
          "height": 198
        },
        "id": "MTTwXpzCe0Ff",
        "outputId": "fa5c10c6-7940-4eda-8d5e-5e6905033880"
      },
      "source": [
        "#importing Dataset\n",
        "train=pd.read_csv('/content/Train.csv')\n",
        "train.head()\n"
      ],
      "execution_count": 4,
      "outputs": [
        {
          "output_type": "execute_result",
          "data": {
            "text/html": [
              "<div>\n",
              "<style scoped>\n",
              "    .dataframe tbody tr th:only-of-type {\n",
              "        vertical-align: middle;\n",
              "    }\n",
              "\n",
              "    .dataframe tbody tr th {\n",
              "        vertical-align: top;\n",
              "    }\n",
              "\n",
              "    .dataframe thead th {\n",
              "        text-align: right;\n",
              "    }\n",
              "</style>\n",
              "<table border=\"1\" class=\"dataframe\">\n",
              "  <thead>\n",
              "    <tr style=\"text-align: right;\">\n",
              "      <th></th>\n",
              "      <th>ID</th>\n",
              "      <th>DATOP</th>\n",
              "      <th>FLTID</th>\n",
              "      <th>DEPSTN</th>\n",
              "      <th>ARRSTN</th>\n",
              "      <th>STD</th>\n",
              "      <th>STA</th>\n",
              "      <th>STATUS</th>\n",
              "      <th>AC</th>\n",
              "      <th>target</th>\n",
              "    </tr>\n",
              "  </thead>\n",
              "  <tbody>\n",
              "    <tr>\n",
              "      <th>0</th>\n",
              "      <td>train_id_0</td>\n",
              "      <td>2016-01-03</td>\n",
              "      <td>TU 0712</td>\n",
              "      <td>CMN</td>\n",
              "      <td>TUN</td>\n",
              "      <td>2016-01-03 10:30:00</td>\n",
              "      <td>2016-01-03 12.55.00</td>\n",
              "      <td>ATA</td>\n",
              "      <td>TU 32AIMN</td>\n",
              "      <td>260.0</td>\n",
              "    </tr>\n",
              "    <tr>\n",
              "      <th>1</th>\n",
              "      <td>train_id_1</td>\n",
              "      <td>2016-01-13</td>\n",
              "      <td>TU 0757</td>\n",
              "      <td>MXP</td>\n",
              "      <td>TUN</td>\n",
              "      <td>2016-01-13 15:05:00</td>\n",
              "      <td>2016-01-13 16.55.00</td>\n",
              "      <td>ATA</td>\n",
              "      <td>TU 31BIMO</td>\n",
              "      <td>20.0</td>\n",
              "    </tr>\n",
              "    <tr>\n",
              "      <th>2</th>\n",
              "      <td>train_id_2</td>\n",
              "      <td>2016-01-16</td>\n",
              "      <td>TU 0214</td>\n",
              "      <td>TUN</td>\n",
              "      <td>IST</td>\n",
              "      <td>2016-01-16 04:10:00</td>\n",
              "      <td>2016-01-16 06.45.00</td>\n",
              "      <td>ATA</td>\n",
              "      <td>TU 32AIMN</td>\n",
              "      <td>0.0</td>\n",
              "    </tr>\n",
              "    <tr>\n",
              "      <th>3</th>\n",
              "      <td>train_id_3</td>\n",
              "      <td>2016-01-17</td>\n",
              "      <td>TU 0480</td>\n",
              "      <td>DJE</td>\n",
              "      <td>NTE</td>\n",
              "      <td>2016-01-17 14:10:00</td>\n",
              "      <td>2016-01-17 17.00.00</td>\n",
              "      <td>ATA</td>\n",
              "      <td>TU 736IOK</td>\n",
              "      <td>0.0</td>\n",
              "    </tr>\n",
              "    <tr>\n",
              "      <th>4</th>\n",
              "      <td>train_id_4</td>\n",
              "      <td>2016-01-17</td>\n",
              "      <td>TU 0338</td>\n",
              "      <td>TUN</td>\n",
              "      <td>ALG</td>\n",
              "      <td>2016-01-17 14:30:00</td>\n",
              "      <td>2016-01-17 15.50.00</td>\n",
              "      <td>ATA</td>\n",
              "      <td>TU 320IMU</td>\n",
              "      <td>22.0</td>\n",
              "    </tr>\n",
              "  </tbody>\n",
              "</table>\n",
              "</div>"
            ],
            "text/plain": [
              "           ID       DATOP     FLTID  ... STATUS         AC target\n",
              "0  train_id_0  2016-01-03  TU 0712   ...    ATA  TU 32AIMN  260.0\n",
              "1  train_id_1  2016-01-13  TU 0757   ...    ATA  TU 31BIMO   20.0\n",
              "2  train_id_2  2016-01-16  TU 0214   ...    ATA  TU 32AIMN    0.0\n",
              "3  train_id_3  2016-01-17  TU 0480   ...    ATA  TU 736IOK    0.0\n",
              "4  train_id_4  2016-01-17  TU 0338   ...    ATA  TU 320IMU   22.0\n",
              "\n",
              "[5 rows x 10 columns]"
            ]
          },
          "metadata": {
            "tags": []
          },
          "execution_count": 4
        }
      ]
    },
    {
      "cell_type": "code",
      "metadata": {
        "colab": {
          "base_uri": "https://localhost:8080/",
          "height": 198
        },
        "id": "UCEA9Y_8e0HF",
        "outputId": "c2b7d200-c333-401e-d841-1294facabc2d"
      },
      "source": [
        "test = pd.read_csv('/content/Test.csv')\n",
        "test.head()"
      ],
      "execution_count": 5,
      "outputs": [
        {
          "output_type": "execute_result",
          "data": {
            "text/html": [
              "<div>\n",
              "<style scoped>\n",
              "    .dataframe tbody tr th:only-of-type {\n",
              "        vertical-align: middle;\n",
              "    }\n",
              "\n",
              "    .dataframe tbody tr th {\n",
              "        vertical-align: top;\n",
              "    }\n",
              "\n",
              "    .dataframe thead th {\n",
              "        text-align: right;\n",
              "    }\n",
              "</style>\n",
              "<table border=\"1\" class=\"dataframe\">\n",
              "  <thead>\n",
              "    <tr style=\"text-align: right;\">\n",
              "      <th></th>\n",
              "      <th>ID</th>\n",
              "      <th>DATOP</th>\n",
              "      <th>FLTID</th>\n",
              "      <th>DEPSTN</th>\n",
              "      <th>ARRSTN</th>\n",
              "      <th>STD</th>\n",
              "      <th>STA</th>\n",
              "      <th>STATUS</th>\n",
              "      <th>AC</th>\n",
              "    </tr>\n",
              "  </thead>\n",
              "  <tbody>\n",
              "    <tr>\n",
              "      <th>0</th>\n",
              "      <td>test_id_0</td>\n",
              "      <td>2016-05-04</td>\n",
              "      <td>TU 0700</td>\n",
              "      <td>DJE</td>\n",
              "      <td>TUN</td>\n",
              "      <td>2016-05-04 06:40:00</td>\n",
              "      <td>2016-05-04 07.30.00</td>\n",
              "      <td>ATA</td>\n",
              "      <td>TU 32AIMF</td>\n",
              "    </tr>\n",
              "    <tr>\n",
              "      <th>1</th>\n",
              "      <td>test_id_1</td>\n",
              "      <td>2016-05-05</td>\n",
              "      <td>TU 0395</td>\n",
              "      <td>TUN</td>\n",
              "      <td>BKO</td>\n",
              "      <td>2016-05-05 15:20:00</td>\n",
              "      <td>2016-05-05 20.05.00</td>\n",
              "      <td>ATA</td>\n",
              "      <td>TU 320IMW</td>\n",
              "    </tr>\n",
              "    <tr>\n",
              "      <th>2</th>\n",
              "      <td>test_id_2</td>\n",
              "      <td>2016-05-06</td>\n",
              "      <td>TU 0745</td>\n",
              "      <td>FRA</td>\n",
              "      <td>TUN</td>\n",
              "      <td>2016-05-06 10:00:00</td>\n",
              "      <td>2016-05-06 12.25.00</td>\n",
              "      <td>ATA</td>\n",
              "      <td>TU 32AIMC</td>\n",
              "    </tr>\n",
              "    <tr>\n",
              "      <th>3</th>\n",
              "      <td>test_id_3</td>\n",
              "      <td>2016-05-11</td>\n",
              "      <td>TU 0848</td>\n",
              "      <td>BEY</td>\n",
              "      <td>TUN</td>\n",
              "      <td>2016-05-11 09:40:00</td>\n",
              "      <td>2016-05-11 13.10.00</td>\n",
              "      <td>ATA</td>\n",
              "      <td>TU 31BIMO</td>\n",
              "    </tr>\n",
              "    <tr>\n",
              "      <th>4</th>\n",
              "      <td>test_id_4</td>\n",
              "      <td>2016-05-11</td>\n",
              "      <td>TU 0635</td>\n",
              "      <td>ORY</td>\n",
              "      <td>MIR</td>\n",
              "      <td>2016-05-11 09:50:00</td>\n",
              "      <td>2016-05-11 12.35.00</td>\n",
              "      <td>ATA</td>\n",
              "      <td>TU 736IOQ</td>\n",
              "    </tr>\n",
              "  </tbody>\n",
              "</table>\n",
              "</div>"
            ],
            "text/plain": [
              "          ID       DATOP     FLTID  ...                  STA STATUS         AC\n",
              "0  test_id_0  2016-05-04  TU 0700   ...  2016-05-04 07.30.00    ATA  TU 32AIMF\n",
              "1  test_id_1  2016-05-05  TU 0395   ...  2016-05-05 20.05.00    ATA  TU 320IMW\n",
              "2  test_id_2  2016-05-06  TU 0745   ...  2016-05-06 12.25.00    ATA  TU 32AIMC\n",
              "3  test_id_3  2016-05-11  TU 0848   ...  2016-05-11 13.10.00    ATA  TU 31BIMO\n",
              "4  test_id_4  2016-05-11  TU 0635   ...  2016-05-11 12.35.00    ATA  TU 736IOQ\n",
              "\n",
              "[5 rows x 9 columns]"
            ]
          },
          "metadata": {
            "tags": []
          },
          "execution_count": 5
        }
      ]
    },
    {
      "cell_type": "code",
      "metadata": {
        "colab": {
          "base_uri": "https://localhost:8080/"
        },
        "id": "YD4zQIXXpFsx",
        "outputId": "15297aaf-6b3c-4757-9b03-2dc958f22a7d"
      },
      "source": [
        "# Checking for the shape  of the train and test dataframes\n",
        "\n",
        "print(f'The train shape is {train.shape} and the test shape is {test.shape}')"
      ],
      "execution_count": 6,
      "outputs": [
        {
          "output_type": "stream",
          "text": [
            "The train shape is (107833, 10) and the test shape is (9333, 9)\n"
          ],
          "name": "stdout"
        }
      ]
    },
    {
      "cell_type": "code",
      "metadata": {
        "colab": {
          "base_uri": "https://localhost:8080/"
        },
        "id": "B8mRz6HdrOIb",
        "outputId": "28671134-1c97-43b3-9a67-cce1a29ba2db"
      },
      "source": [
        "# Check for duplicates\n",
        "print(f'Are there duplicates in train data? {train.duplicated().any()},and are there duplicates in test data? {test.duplicated().any()}')\n"
      ],
      "execution_count": 7,
      "outputs": [
        {
          "output_type": "stream",
          "text": [
            "Are there duplicates in train data? False,and are there duplicates in test data? False\n"
          ],
          "name": "stdout"
        }
      ]
    },
    {
      "cell_type": "code",
      "metadata": {
        "colab": {
          "base_uri": "https://localhost:8080/"
        },
        "id": "0SRN-HresdGM",
        "outputId": "0f30daf4-f9bf-4663-8dac-a5aca03e645b"
      },
      "source": [
        "# Checking for the null values of the train data\n",
        "train.isnull().any()\n"
      ],
      "execution_count": null,
      "outputs": [
        {
          "output_type": "execute_result",
          "data": {
            "text/plain": [
              "ID        False\n",
              "DATOP     False\n",
              "FLTID     False\n",
              "DEPSTN    False\n",
              "ARRSTN    False\n",
              "STD       False\n",
              "STA       False\n",
              "STATUS    False\n",
              "AC        False\n",
              "target    False\n",
              "dtype: bool"
            ]
          },
          "metadata": {
            "tags": []
          },
          "execution_count": 6
        }
      ]
    },
    {
      "cell_type": "code",
      "metadata": {
        "colab": {
          "base_uri": "https://localhost:8080/"
        },
        "id": "Qbnq1ih4e0Lb",
        "outputId": "11852448-9e48-4e94-ccf3-a1f6b6303fbd"
      },
      "source": [
        "# Previweing  information about the dataframe\n",
        "\n",
        "train.info()"
      ],
      "execution_count": null,
      "outputs": [
        {
          "output_type": "stream",
          "text": [
            "<class 'pandas.core.frame.DataFrame'>\n",
            "RangeIndex: 107833 entries, 0 to 107832\n",
            "Data columns (total 10 columns):\n",
            " #   Column  Non-Null Count   Dtype  \n",
            "---  ------  --------------   -----  \n",
            " 0   ID      107833 non-null  object \n",
            " 1   DATOP   107833 non-null  object \n",
            " 2   FLTID   107833 non-null  object \n",
            " 3   DEPSTN  107833 non-null  object \n",
            " 4   ARRSTN  107833 non-null  object \n",
            " 5   STD     107833 non-null  object \n",
            " 6   STA     107833 non-null  object \n",
            " 7   STATUS  107833 non-null  object \n",
            " 8   AC      107833 non-null  object \n",
            " 9   target  107833 non-null  float64\n",
            "dtypes: float64(1), object(9)\n",
            "memory usage: 8.2+ MB\n"
          ],
          "name": "stdout"
        }
      ]
    },
    {
      "cell_type": "markdown",
      "metadata": {
        "id": "lE3Oes6roMoJ"
      },
      "source": [
        "Most of the columns have incorrect datatypes, we will need to convert them into the correct datatypes during cleaning"
      ]
    },
    {
      "cell_type": "code",
      "metadata": {
        "colab": {
          "base_uri": "https://localhost:8080/"
        },
        "id": "_MHEY2MDe0VH",
        "outputId": "b2595da2-337b-4f36-c676-0457dd80edae"
      },
      "source": [
        "# Previweing  information about the test data\n",
        "test.info()"
      ],
      "execution_count": null,
      "outputs": [
        {
          "output_type": "stream",
          "text": [
            "<class 'pandas.core.frame.DataFrame'>\n",
            "RangeIndex: 9333 entries, 0 to 9332\n",
            "Data columns (total 9 columns):\n",
            " #   Column  Non-Null Count  Dtype \n",
            "---  ------  --------------  ----- \n",
            " 0   ID      9333 non-null   object\n",
            " 1   DATOP   9333 non-null   object\n",
            " 2   FLTID   9333 non-null   object\n",
            " 3   DEPSTN  9333 non-null   object\n",
            " 4   ARRSTN  9333 non-null   object\n",
            " 5   STD     9333 non-null   object\n",
            " 6   STA     9333 non-null   object\n",
            " 7   STATUS  9333 non-null   object\n",
            " 8   AC      9333 non-null   object\n",
            "dtypes: object(9)\n",
            "memory usage: 656.4+ KB\n"
          ],
          "name": "stdout"
        }
      ]
    },
    {
      "cell_type": "markdown",
      "metadata": {
        "id": "hrPYb4Zsoar7"
      },
      "source": [
        "**Data Wrangling and cleaning**"
      ]
    },
    {
      "cell_type": "code",
      "metadata": {
        "id": "KrnXQwiUeRfS"
      },
      "source": [
        "# converting the incorrect datatypes to right data types\n",
        "train['DATOP'] = pd.to_datetime(train['DATOP'])\n",
        "train['FLTID'] = train['FLTID'].astype('category')\n",
        "train['DEPSTN'] = train['DEPSTN'].astype('category')\n",
        "train['ARRSTN'] = train['ARRSTN'].astype('category')\n",
        "train['STD'] = pd.to_datetime(train['STD'])\n",
        "train['STA'] = train['STA'].str.replace('.', ':') # replacing period with column to get the time column in to the right format\n",
        "train['STA'] = pd.to_datetime(train['STA'])\n",
        "train['STATUS'] = train['STATUS'].astype('category')\n",
        "train['AC'] = train['AC'].astype('category')\n"
      ],
      "execution_count": 8,
      "outputs": []
    },
    {
      "cell_type": "code",
      "metadata": {
        "id": "xfkLMT-6o9I1"
      },
      "source": [
        "# converting the incorrect datatypes to right data types\n",
        "\n",
        "test['DATOP'] = pd.to_datetime(test['DATOP'])\n",
        "test['FLTID'] = test['FLTID'].astype('category')\n",
        "test['DEPSTN'] = test['DEPSTN'].astype('category')\n",
        "test['ARRSTN'] = test['ARRSTN'].astype('category')\n",
        "test['STD'] = pd.to_datetime(test['STD'])\n",
        "test['STA'] = test['STA'].str.replace('.', ':') # replacing period with column to get the time column in to the right format\n",
        "test['STA'] = pd.to_datetime(test['STA'])\n",
        "test['STATUS'] = test['STATUS'].astype('category')\n",
        "test['AC'] = test['AC'].astype('category')"
      ],
      "execution_count": 9,
      "outputs": []
    },
    {
      "cell_type": "code",
      "metadata": {
        "colab": {
          "base_uri": "https://localhost:8080/"
        },
        "id": "4f51HqVlpqSr",
        "outputId": "2f3454db-1bd8-4fa4-cef8-d4317d6b07ed"
      },
      "source": [
        "train.info()"
      ],
      "execution_count": null,
      "outputs": [
        {
          "output_type": "stream",
          "text": [
            "<class 'pandas.core.frame.DataFrame'>\n",
            "RangeIndex: 107833 entries, 0 to 107832\n",
            "Data columns (total 10 columns):\n",
            " #   Column  Non-Null Count   Dtype         \n",
            "---  ------  --------------   -----         \n",
            " 0   ID      107833 non-null  object        \n",
            " 1   DATOP   107833 non-null  datetime64[ns]\n",
            " 2   FLTID   107833 non-null  category      \n",
            " 3   DEPSTN  107833 non-null  category      \n",
            " 4   ARRSTN  107833 non-null  category      \n",
            " 5   STD     107833 non-null  datetime64[ns]\n",
            " 6   STA     107833 non-null  datetime64[ns]\n",
            " 7   STATUS  107833 non-null  category      \n",
            " 8   AC      107833 non-null  category      \n",
            " 9   target  107833 non-null  float64       \n",
            "dtypes: category(5), datetime64[ns](3), float64(1), object(1)\n",
            "memory usage: 5.0+ MB\n"
          ],
          "name": "stdout"
        }
      ]
    },
    {
      "cell_type": "code",
      "metadata": {
        "colab": {
          "base_uri": "https://localhost:8080/"
        },
        "id": "UtzhqxoHpqhk",
        "outputId": "1be823e0-1162-4300-943d-76533d28e292"
      },
      "source": [
        "test.info()"
      ],
      "execution_count": null,
      "outputs": [
        {
          "output_type": "stream",
          "text": [
            "<class 'pandas.core.frame.DataFrame'>\n",
            "RangeIndex: 9333 entries, 0 to 9332\n",
            "Data columns (total 9 columns):\n",
            " #   Column  Non-Null Count  Dtype         \n",
            "---  ------  --------------  -----         \n",
            " 0   ID      9333 non-null   object        \n",
            " 1   DATOP   9333 non-null   datetime64[ns]\n",
            " 2   FLTID   9333 non-null   category      \n",
            " 3   DEPSTN  9333 non-null   category      \n",
            " 4   ARRSTN  9333 non-null   category      \n",
            " 5   STD     9333 non-null   datetime64[ns]\n",
            " 6   STA     9333 non-null   datetime64[ns]\n",
            " 7   STATUS  9333 non-null   category      \n",
            " 8   AC      9333 non-null   category      \n",
            "dtypes: category(5), datetime64[ns](3), object(1)\n",
            "memory usage: 380.0+ KB\n"
          ],
          "name": "stdout"
        }
      ]
    },
    {
      "cell_type": "code",
      "metadata": {
        "colab": {
          "base_uri": "https://localhost:8080/"
        },
        "id": "yZ_RgpefcG7I",
        "outputId": "66800001-f943-40fb-d155-9c6343394168"
      },
      "source": [
        "#Create a time difference column that finds the difference between the Stated time of arrival Column and Stated time of departure column\n",
        "#The resulting column shows time in minutes \n",
        "%%time\n",
        "time_diff = [(train.STA.loc[i] - train.STD.loc[i]).total_seconds()/60 for i in range(train.shape[0])]"
      ],
      "execution_count": 10,
      "outputs": [
        {
          "output_type": "stream",
          "text": [
            "CPU times: user 7.14 s, sys: 1.32 ms, total: 7.14 s\n",
            "Wall time: 7.15 s\n"
          ],
          "name": "stdout"
        }
      ]
    },
    {
      "cell_type": "code",
      "metadata": {
        "colab": {
          "base_uri": "https://localhost:8080/",
          "height": 198
        },
        "id": "gAvnhCjMcG25",
        "outputId": "33250746-afd3-454d-c534-7288c84fc263"
      },
      "source": [
        "train['time_diff'] = time_diff #This creates a new column in train dataset\n",
        "train.head()"
      ],
      "execution_count": 11,
      "outputs": [
        {
          "output_type": "execute_result",
          "data": {
            "text/html": [
              "<div>\n",
              "<style scoped>\n",
              "    .dataframe tbody tr th:only-of-type {\n",
              "        vertical-align: middle;\n",
              "    }\n",
              "\n",
              "    .dataframe tbody tr th {\n",
              "        vertical-align: top;\n",
              "    }\n",
              "\n",
              "    .dataframe thead th {\n",
              "        text-align: right;\n",
              "    }\n",
              "</style>\n",
              "<table border=\"1\" class=\"dataframe\">\n",
              "  <thead>\n",
              "    <tr style=\"text-align: right;\">\n",
              "      <th></th>\n",
              "      <th>ID</th>\n",
              "      <th>DATOP</th>\n",
              "      <th>FLTID</th>\n",
              "      <th>DEPSTN</th>\n",
              "      <th>ARRSTN</th>\n",
              "      <th>STD</th>\n",
              "      <th>STA</th>\n",
              "      <th>STATUS</th>\n",
              "      <th>AC</th>\n",
              "      <th>target</th>\n",
              "      <th>time_diff</th>\n",
              "    </tr>\n",
              "  </thead>\n",
              "  <tbody>\n",
              "    <tr>\n",
              "      <th>0</th>\n",
              "      <td>train_id_0</td>\n",
              "      <td>2016-01-03</td>\n",
              "      <td>TU 0712</td>\n",
              "      <td>CMN</td>\n",
              "      <td>TUN</td>\n",
              "      <td>2016-01-03 10:30:00</td>\n",
              "      <td>2016-01-03 12:55:00</td>\n",
              "      <td>ATA</td>\n",
              "      <td>TU 32AIMN</td>\n",
              "      <td>260.0</td>\n",
              "      <td>145.0</td>\n",
              "    </tr>\n",
              "    <tr>\n",
              "      <th>1</th>\n",
              "      <td>train_id_1</td>\n",
              "      <td>2016-01-13</td>\n",
              "      <td>TU 0757</td>\n",
              "      <td>MXP</td>\n",
              "      <td>TUN</td>\n",
              "      <td>2016-01-13 15:05:00</td>\n",
              "      <td>2016-01-13 16:55:00</td>\n",
              "      <td>ATA</td>\n",
              "      <td>TU 31BIMO</td>\n",
              "      <td>20.0</td>\n",
              "      <td>110.0</td>\n",
              "    </tr>\n",
              "    <tr>\n",
              "      <th>2</th>\n",
              "      <td>train_id_2</td>\n",
              "      <td>2016-01-16</td>\n",
              "      <td>TU 0214</td>\n",
              "      <td>TUN</td>\n",
              "      <td>IST</td>\n",
              "      <td>2016-01-16 04:10:00</td>\n",
              "      <td>2016-01-16 06:45:00</td>\n",
              "      <td>ATA</td>\n",
              "      <td>TU 32AIMN</td>\n",
              "      <td>0.0</td>\n",
              "      <td>155.0</td>\n",
              "    </tr>\n",
              "    <tr>\n",
              "      <th>3</th>\n",
              "      <td>train_id_3</td>\n",
              "      <td>2016-01-17</td>\n",
              "      <td>TU 0480</td>\n",
              "      <td>DJE</td>\n",
              "      <td>NTE</td>\n",
              "      <td>2016-01-17 14:10:00</td>\n",
              "      <td>2016-01-17 17:00:00</td>\n",
              "      <td>ATA</td>\n",
              "      <td>TU 736IOK</td>\n",
              "      <td>0.0</td>\n",
              "      <td>170.0</td>\n",
              "    </tr>\n",
              "    <tr>\n",
              "      <th>4</th>\n",
              "      <td>train_id_4</td>\n",
              "      <td>2016-01-17</td>\n",
              "      <td>TU 0338</td>\n",
              "      <td>TUN</td>\n",
              "      <td>ALG</td>\n",
              "      <td>2016-01-17 14:30:00</td>\n",
              "      <td>2016-01-17 15:50:00</td>\n",
              "      <td>ATA</td>\n",
              "      <td>TU 320IMU</td>\n",
              "      <td>22.0</td>\n",
              "      <td>80.0</td>\n",
              "    </tr>\n",
              "  </tbody>\n",
              "</table>\n",
              "</div>"
            ],
            "text/plain": [
              "           ID      DATOP     FLTID DEPSTN  ... STATUS         AC target time_diff\n",
              "0  train_id_0 2016-01-03  TU 0712     CMN  ...    ATA  TU 32AIMN  260.0     145.0\n",
              "1  train_id_1 2016-01-13  TU 0757     MXP  ...    ATA  TU 31BIMO   20.0     110.0\n",
              "2  train_id_2 2016-01-16  TU 0214     TUN  ...    ATA  TU 32AIMN    0.0     155.0\n",
              "3  train_id_3 2016-01-17  TU 0480     DJE  ...    ATA  TU 736IOK    0.0     170.0\n",
              "4  train_id_4 2016-01-17  TU 0338     TUN  ...    ATA  TU 320IMU   22.0      80.0\n",
              "\n",
              "[5 rows x 11 columns]"
            ]
          },
          "metadata": {
            "tags": []
          },
          "execution_count": 11
        }
      ]
    },
    {
      "cell_type": "code",
      "metadata": {
        "id": "BEYr3JHefo2Q"
      },
      "source": [
        "%%time\n",
        "time_diff = [(test.STA.loc[i] - test.STD.loc[i]).total_seconds()/60 for i in range(test.shape[0])] #Do the same for the test data\n",
        "test['time_diff'] = time_diff\n"
      ],
      "execution_count": null,
      "outputs": []
    },
    {
      "cell_type": "code",
      "metadata": {
        "id": "fmmd93-bp5V0"
      },
      "source": [
        "# Checking for anomalies in the date columns\n",
        "# first we check split the dates into year, month, day , hr, and min\n",
        "# splitting DATOP into year, month, day\n",
        "train['year_datop'] = pd.to_datetime(train['DATOP']).dt.year\n",
        "train['month_datop'] = pd.to_datetime(train['DATOP']).dt.month\n",
        "train['day_datop'] = pd.to_datetime(train['DATOP']).dt.day\n",
        "\n",
        "# splitting STD into hours and minutes\n",
        "train['std_hr'] = pd.to_datetime(train['STD']).dt.hour\n",
        "train['std_min'] = pd.to_datetime(train['STD']).dt.minute\n",
        "\n",
        "# splitting STA into hours and minutes\n",
        "train['sta_hr'] = pd.to_datetime(train['STA']).dt.hour\n",
        "train['sta_min'] = pd.to_datetime(train['STA']).dt.minute"
      ],
      "execution_count": 13,
      "outputs": []
    },
    {
      "cell_type": "code",
      "metadata": {
        "id": "hxsQvLKDtwDu"
      },
      "source": [
        "# Checking for anomalies in the date columns\n",
        "# first we check split the dates into year, month, day , hr, and min\n",
        "# splitting DATOP into year, month, day\n",
        "test['year_datop'] = pd.to_datetime(test['DATOP']).dt.year\n",
        "test['month_datop'] = pd.to_datetime(test['DATOP']).dt.month\n",
        "test['day_datop'] = pd.to_datetime(test['DATOP']).dt.day\n",
        "\n",
        "# splitting STD into hours and minutes\n",
        "test['std_hr'] = pd.to_datetime(test['STD']).dt.hour\n",
        "test['std_min'] = pd.to_datetime(test['STD']).dt.minute\n",
        "\n",
        "# splitting STA into hours and minutes\n",
        "test['sta_hr'] = pd.to_datetime(test['STA']).dt.hour\n",
        "test['sta_min'] = pd.to_datetime(test['STA']).dt.minute"
      ],
      "execution_count": 14,
      "outputs": []
    },
    {
      "cell_type": "code",
      "metadata": {
        "id": "Pv16cEZBtwFr"
      },
      "source": [
        "# More data cleaning procedures\n",
        "# changing the names of columns so that they make more sense\n",
        "\n",
        "train.rename(columns={'ID': 'id','DATOP': 'date_flight', 'FLTID': 'flight_number', 'DEPSTN': 'departure_point', 'ARRSTN': 'arrival_point', 'STD': 'scheduled_time_departure',\n",
        "             'STA': 'scheduled_time_arrival', 'STATUS': 'status', 'AC': 'aircraft_code', 'target': 'delayed_minutes'}, inplace=True)"
      ],
      "execution_count": 15,
      "outputs": []
    },
    {
      "cell_type": "code",
      "metadata": {
        "id": "gRcF8enqtwKA"
      },
      "source": [
        "# More data cleaning procedures\n",
        "# changing the names of columns so that they make more sense\n",
        "\n",
        "test.rename(columns={'ID': 'id','DATOP': 'date_flight', 'FLTID': 'flight_number', 'DEPSTN': 'departure_point', 'ARRSTN': 'arrival_point', 'STD': 'scheduled_time_departure',\n",
        "             'STA': 'scheduled_time_arrival', 'STATUS': 'status', 'AC': 'aircraft_code', 'target': 'delayed_minutes'}, inplace=True)"
      ],
      "execution_count": 16,
      "outputs": []
    },
    {
      "cell_type": "code",
      "metadata": {
        "colab": {
          "base_uri": "https://localhost:8080/",
          "height": 368
        },
        "id": "x4hf4_2bwqmX",
        "outputId": "9d133079-1a1d-41d0-8f3f-0c8951552f64"
      },
      "source": [
        "\n",
        "# Creating a function to be used to create delay or not\n",
        "\n",
        "def Outcome(delayed_minutes):\n",
        "  if delayed_minutes > 0:\n",
        "    return 'delay'\n",
        "  elif delayed_minutes == 0:\n",
        "    return 'on time'\n",
        "  else:\n",
        "    return 'early'\n",
        "\n",
        "# Applying the result function to the dataframe\n",
        "train['Outcome'] = train.delayed_minutes.apply(lambda x: Outcome(x))\n",
        "\n",
        "# Previewing the changes \n",
        "train.head(10)"
      ],
      "execution_count": 17,
      "outputs": [
        {
          "output_type": "execute_result",
          "data": {
            "text/html": [
              "<div>\n",
              "<style scoped>\n",
              "    .dataframe tbody tr th:only-of-type {\n",
              "        vertical-align: middle;\n",
              "    }\n",
              "\n",
              "    .dataframe tbody tr th {\n",
              "        vertical-align: top;\n",
              "    }\n",
              "\n",
              "    .dataframe thead th {\n",
              "        text-align: right;\n",
              "    }\n",
              "</style>\n",
              "<table border=\"1\" class=\"dataframe\">\n",
              "  <thead>\n",
              "    <tr style=\"text-align: right;\">\n",
              "      <th></th>\n",
              "      <th>id</th>\n",
              "      <th>date_flight</th>\n",
              "      <th>flight_number</th>\n",
              "      <th>departure_point</th>\n",
              "      <th>arrival_point</th>\n",
              "      <th>scheduled_time_departure</th>\n",
              "      <th>scheduled_time_arrival</th>\n",
              "      <th>status</th>\n",
              "      <th>aircraft_code</th>\n",
              "      <th>delayed_minutes</th>\n",
              "      <th>time_diff</th>\n",
              "      <th>year_datop</th>\n",
              "      <th>month_datop</th>\n",
              "      <th>day_datop</th>\n",
              "      <th>std_hr</th>\n",
              "      <th>std_min</th>\n",
              "      <th>sta_hr</th>\n",
              "      <th>sta_min</th>\n",
              "      <th>Outcome</th>\n",
              "    </tr>\n",
              "  </thead>\n",
              "  <tbody>\n",
              "    <tr>\n",
              "      <th>0</th>\n",
              "      <td>train_id_0</td>\n",
              "      <td>2016-01-03</td>\n",
              "      <td>TU 0712</td>\n",
              "      <td>CMN</td>\n",
              "      <td>TUN</td>\n",
              "      <td>2016-01-03 10:30:00</td>\n",
              "      <td>2016-01-03 12:55:00</td>\n",
              "      <td>ATA</td>\n",
              "      <td>TU 32AIMN</td>\n",
              "      <td>260.0</td>\n",
              "      <td>145.0</td>\n",
              "      <td>2016</td>\n",
              "      <td>1</td>\n",
              "      <td>3</td>\n",
              "      <td>10</td>\n",
              "      <td>30</td>\n",
              "      <td>12</td>\n",
              "      <td>55</td>\n",
              "      <td>delay</td>\n",
              "    </tr>\n",
              "    <tr>\n",
              "      <th>1</th>\n",
              "      <td>train_id_1</td>\n",
              "      <td>2016-01-13</td>\n",
              "      <td>TU 0757</td>\n",
              "      <td>MXP</td>\n",
              "      <td>TUN</td>\n",
              "      <td>2016-01-13 15:05:00</td>\n",
              "      <td>2016-01-13 16:55:00</td>\n",
              "      <td>ATA</td>\n",
              "      <td>TU 31BIMO</td>\n",
              "      <td>20.0</td>\n",
              "      <td>110.0</td>\n",
              "      <td>2016</td>\n",
              "      <td>1</td>\n",
              "      <td>13</td>\n",
              "      <td>15</td>\n",
              "      <td>5</td>\n",
              "      <td>16</td>\n",
              "      <td>55</td>\n",
              "      <td>delay</td>\n",
              "    </tr>\n",
              "    <tr>\n",
              "      <th>2</th>\n",
              "      <td>train_id_2</td>\n",
              "      <td>2016-01-16</td>\n",
              "      <td>TU 0214</td>\n",
              "      <td>TUN</td>\n",
              "      <td>IST</td>\n",
              "      <td>2016-01-16 04:10:00</td>\n",
              "      <td>2016-01-16 06:45:00</td>\n",
              "      <td>ATA</td>\n",
              "      <td>TU 32AIMN</td>\n",
              "      <td>0.0</td>\n",
              "      <td>155.0</td>\n",
              "      <td>2016</td>\n",
              "      <td>1</td>\n",
              "      <td>16</td>\n",
              "      <td>4</td>\n",
              "      <td>10</td>\n",
              "      <td>6</td>\n",
              "      <td>45</td>\n",
              "      <td>on time</td>\n",
              "    </tr>\n",
              "    <tr>\n",
              "      <th>3</th>\n",
              "      <td>train_id_3</td>\n",
              "      <td>2016-01-17</td>\n",
              "      <td>TU 0480</td>\n",
              "      <td>DJE</td>\n",
              "      <td>NTE</td>\n",
              "      <td>2016-01-17 14:10:00</td>\n",
              "      <td>2016-01-17 17:00:00</td>\n",
              "      <td>ATA</td>\n",
              "      <td>TU 736IOK</td>\n",
              "      <td>0.0</td>\n",
              "      <td>170.0</td>\n",
              "      <td>2016</td>\n",
              "      <td>1</td>\n",
              "      <td>17</td>\n",
              "      <td>14</td>\n",
              "      <td>10</td>\n",
              "      <td>17</td>\n",
              "      <td>0</td>\n",
              "      <td>on time</td>\n",
              "    </tr>\n",
              "    <tr>\n",
              "      <th>4</th>\n",
              "      <td>train_id_4</td>\n",
              "      <td>2016-01-17</td>\n",
              "      <td>TU 0338</td>\n",
              "      <td>TUN</td>\n",
              "      <td>ALG</td>\n",
              "      <td>2016-01-17 14:30:00</td>\n",
              "      <td>2016-01-17 15:50:00</td>\n",
              "      <td>ATA</td>\n",
              "      <td>TU 320IMU</td>\n",
              "      <td>22.0</td>\n",
              "      <td>80.0</td>\n",
              "      <td>2016</td>\n",
              "      <td>1</td>\n",
              "      <td>17</td>\n",
              "      <td>14</td>\n",
              "      <td>30</td>\n",
              "      <td>15</td>\n",
              "      <td>50</td>\n",
              "      <td>delay</td>\n",
              "    </tr>\n",
              "    <tr>\n",
              "      <th>5</th>\n",
              "      <td>train_id_5</td>\n",
              "      <td>2016-01-17</td>\n",
              "      <td>TU 0283</td>\n",
              "      <td>TLS</td>\n",
              "      <td>TUN</td>\n",
              "      <td>2016-01-17 16:20:00</td>\n",
              "      <td>2016-01-17 18:15:00</td>\n",
              "      <td>ATA</td>\n",
              "      <td>TU 736IOP</td>\n",
              "      <td>53.0</td>\n",
              "      <td>115.0</td>\n",
              "      <td>2016</td>\n",
              "      <td>1</td>\n",
              "      <td>17</td>\n",
              "      <td>16</td>\n",
              "      <td>20</td>\n",
              "      <td>18</td>\n",
              "      <td>15</td>\n",
              "      <td>delay</td>\n",
              "    </tr>\n",
              "    <tr>\n",
              "      <th>6</th>\n",
              "      <td>train_id_6</td>\n",
              "      <td>2016-01-18</td>\n",
              "      <td>TU 0514</td>\n",
              "      <td>TUN</td>\n",
              "      <td>BCN</td>\n",
              "      <td>2016-01-18 07:15:00</td>\n",
              "      <td>2016-01-18 09:00:00</td>\n",
              "      <td>ATA</td>\n",
              "      <td>TU 32AIMH</td>\n",
              "      <td>10.0</td>\n",
              "      <td>105.0</td>\n",
              "      <td>2016</td>\n",
              "      <td>1</td>\n",
              "      <td>18</td>\n",
              "      <td>7</td>\n",
              "      <td>15</td>\n",
              "      <td>9</td>\n",
              "      <td>0</td>\n",
              "      <td>delay</td>\n",
              "    </tr>\n",
              "    <tr>\n",
              "      <th>7</th>\n",
              "      <td>train_id_7</td>\n",
              "      <td>2016-01-18</td>\n",
              "      <td>TU 0716</td>\n",
              "      <td>TUN</td>\n",
              "      <td>ORY</td>\n",
              "      <td>2016-01-18 07:35:00</td>\n",
              "      <td>2016-01-18 09:55:00</td>\n",
              "      <td>ATA</td>\n",
              "      <td>TU 32AIMI</td>\n",
              "      <td>15.0</td>\n",
              "      <td>140.0</td>\n",
              "      <td>2016</td>\n",
              "      <td>1</td>\n",
              "      <td>18</td>\n",
              "      <td>7</td>\n",
              "      <td>35</td>\n",
              "      <td>9</td>\n",
              "      <td>55</td>\n",
              "      <td>delay</td>\n",
              "    </tr>\n",
              "    <tr>\n",
              "      <th>8</th>\n",
              "      <td>train_id_8</td>\n",
              "      <td>2016-01-18</td>\n",
              "      <td>TU 0752</td>\n",
              "      <td>TUN</td>\n",
              "      <td>FCO</td>\n",
              "      <td>2016-01-18 07:40:00</td>\n",
              "      <td>2016-01-18 09:00:00</td>\n",
              "      <td>ATA</td>\n",
              "      <td>TU 32AIMC</td>\n",
              "      <td>16.0</td>\n",
              "      <td>80.0</td>\n",
              "      <td>2016</td>\n",
              "      <td>1</td>\n",
              "      <td>18</td>\n",
              "      <td>7</td>\n",
              "      <td>40</td>\n",
              "      <td>9</td>\n",
              "      <td>0</td>\n",
              "      <td>delay</td>\n",
              "    </tr>\n",
              "    <tr>\n",
              "      <th>9</th>\n",
              "      <td>train_id_9</td>\n",
              "      <td>2016-01-18</td>\n",
              "      <td>TU 0996</td>\n",
              "      <td>TUN</td>\n",
              "      <td>NCE</td>\n",
              "      <td>2016-01-18 07:45:00</td>\n",
              "      <td>2016-01-18 09:15:00</td>\n",
              "      <td>ATA</td>\n",
              "      <td>TU 31AIMK</td>\n",
              "      <td>21.0</td>\n",
              "      <td>90.0</td>\n",
              "      <td>2016</td>\n",
              "      <td>1</td>\n",
              "      <td>18</td>\n",
              "      <td>7</td>\n",
              "      <td>45</td>\n",
              "      <td>9</td>\n",
              "      <td>15</td>\n",
              "      <td>delay</td>\n",
              "    </tr>\n",
              "  </tbody>\n",
              "</table>\n",
              "</div>"
            ],
            "text/plain": [
              "           id date_flight flight_number  ... sta_hr sta_min  Outcome\n",
              "0  train_id_0  2016-01-03      TU 0712   ...     12      55    delay\n",
              "1  train_id_1  2016-01-13      TU 0757   ...     16      55    delay\n",
              "2  train_id_2  2016-01-16      TU 0214   ...      6      45  on time\n",
              "3  train_id_3  2016-01-17      TU 0480   ...     17       0  on time\n",
              "4  train_id_4  2016-01-17      TU 0338   ...     15      50    delay\n",
              "5  train_id_5  2016-01-17      TU 0283   ...     18      15    delay\n",
              "6  train_id_6  2016-01-18      TU 0514   ...      9       0    delay\n",
              "7  train_id_7  2016-01-18      TU 0716   ...      9      55    delay\n",
              "8  train_id_8  2016-01-18      TU 0752   ...      9       0    delay\n",
              "9  train_id_9  2016-01-18      TU 0996   ...      9      15    delay\n",
              "\n",
              "[10 rows x 19 columns]"
            ]
          },
          "metadata": {
            "tags": []
          },
          "execution_count": 17
        }
      ]
    },
    {
      "cell_type": "code",
      "metadata": {
        "id": "56CxSPyX3UNq"
      },
      "source": [
        "# Creating a seasons column\n",
        "df = [train, test]\n",
        "for data in df:\n",
        "    data.loc[ (data['month_datop'] < 3) | (data['month_datop'] == 12), 'Season'] = \"Winter\"\n",
        "    data.loc[(data['month_datop'] >= 3) & (data['month_datop'] < 6), 'Season'] = \"spring\"\n",
        "    data.loc[(data['month_datop'] >= 6) & (data['month_datop'] < 9), 'Season'] = \"summer\"\n",
        "    data.loc[(data['month_datop'] >= 9) & (data['month_datop'] < 12), 'Season'] = \"Autumn\"\n",
        "    data['Season'] = data['Season']"
      ],
      "execution_count": 18,
      "outputs": []
    },
    {
      "cell_type": "code",
      "metadata": {
        "id": "zfM3oXJZZBB8"
      },
      "source": [
        "# convert to date time and the required format\n",
        "# scheduled time departure column\n",
        "train['scheduled_time_departure'] = pd.to_datetime(train['scheduled_time_departure'], format='%Y-%m-%d %H:%M:%S')\n",
        "test['scheduled_time_departure'] = pd.to_datetime(test['scheduled_time_departure'], format='%Y-%m-%d %H:%M:%S')\n",
        "\n",
        "# scheduled time arrival column\n",
        "train['scheduled_time_arrival'] = pd.to_datetime(train['scheduled_time_arrival'], format='%Y-%m-%d %H.%M.%S')\n",
        "test['scheduled_time_arrival'] = pd.to_datetime(test['scheduled_time_arrival'], format='%Y-%m-%d %H.%M.%S')"
      ],
      "execution_count": 19,
      "outputs": []
    },
    {
      "cell_type": "code",
      "metadata": {
        "id": "m77WVQq543cF"
      },
      "source": [
        "num_cols = ['delayed_minutes', 'year_datop',\n",
        "       'month_datop', 'day_datop', 'std_hr', 'std_min', 'sta_hr', 'sta_min','time_diff']"
      ],
      "execution_count": 20,
      "outputs": []
    },
    {
      "cell_type": "code",
      "metadata": {
        "colab": {
          "base_uri": "https://localhost:8080/",
          "height": 372
        },
        "id": "29zbBBL6u5M7",
        "outputId": "d74cecac-8a37-4090-9ba8-ad4fa8600a09"
      },
      "source": [
        "\n",
        "# Plotting  charts\n",
        "#\n",
        "sns.catplot(\"Outcome\", col=\"Season\", col_wrap=4, data=train, kind=\"count\", height=6, aspect=.8, palette='Set1')\n",
        "plt.show()"
      ],
      "execution_count": 21,
      "outputs": [
        {
          "output_type": "display_data",
          "data": {
            "image/png": "[encoded data removed]",
            "text/plain": [
              "<Figure size 1382.4x432 with 4 Axes>"
            ]
          },
          "metadata": {
            "tags": [],
            "needs_background": "light"
          }
        }
      ]
    },
    {
      "cell_type": "markdown",
      "metadata": {
        "id": "VCGQog78mdhc"
      },
      "source": [
        "In the Winter season,more flights have not been on time and are  delayed.This is the same for Spring,Summer and Autumn seasonns."
      ]
    },
    {
      "cell_type": "code",
      "metadata": {
        "colab": {
          "base_uri": "https://localhost:8080/",
          "height": 681
        },
        "id": "tdh3hRVYwHgS",
        "outputId": "b7080300-471e-47b6-f680-8da0807d4420"
      },
      "source": [
        "train.hist(bins=20, figsize=(20, 12))\n",
        "plt.show()"
      ],
      "execution_count": 22,
      "outputs": [
        {
          "output_type": "display_data",
          "data": {
            "image/png": "[encoded data removed]",
            "text/plain": [
              "<Figure size 1440x864 with 9 Axes>"
            ]
          },
          "metadata": {
            "tags": [],
            "needs_background": "light"
          }
        }
      ]
    },
    {
      "cell_type": "code",
      "metadata": {
        "colab": {
          "base_uri": "https://localhost:8080/",
          "height": 310
        },
        "id": "nA5Q1YCmwH3Z",
        "outputId": "43c510ed-8fd2-4df8-e630-be4524adb2e1"
      },
      "source": [
        "Count_Outcome = train.Outcome.value_counts() \n",
        "(Count_Outcome/train.shape[0]).plot(kind=\"bar\");\n",
        "plt.title(\"Plot of outcome\");"
      ],
      "execution_count": 23,
      "outputs": [
        {
          "output_type": "display_data",
          "data": {
            "image/png": "[encoded data removed]",
            "text/plain": [
              "<Figure size 432x288 with 1 Axes>"
            ]
          },
          "metadata": {
            "tags": [],
            "needs_background": "light"
          }
        }
      ]
    },
    {
      "cell_type": "markdown",
      "metadata": {
        "id": "RJMKMfKOnIs9"
      },
      "source": [
        "There are more delayed flights than on time flights."
      ]
    },
    {
      "cell_type": "code",
      "metadata": {
        "colab": {
          "base_uri": "https://localhost:8080/",
          "height": 313
        },
        "id": "ogS1mHxr2YJ0",
        "outputId": "31a7ea81-2f32-48cf-fd9c-a33159c661d0"
      },
      "source": [
        "#Which season has most flights\n",
        "Season_vals = train.Season.value_counts()\n",
        "(Season_vals/train.shape[0]).plot(kind=\"bar\");\n",
        "plt.title(\"Seasonality\");"
      ],
      "execution_count": null,
      "outputs": [
        {
          "output_type": "display_data",
          "data": {
            "image/png": "[encoded data removed]",
            "text/plain": [
              "<Figure size 432x288 with 1 Axes>"
            ]
          },
          "metadata": {
            "tags": [],
            "needs_background": "light"
          }
        }
      ]
    },
    {
      "cell_type": "markdown",
      "metadata": {
        "id": "VJjwrFEgncRd"
      },
      "source": [
        "During Summer season there are more flights."
      ]
    },
    {
      "cell_type": "code",
      "metadata": {
        "colab": {
          "base_uri": "https://localhost:8080/",
          "height": 637
        },
        "id": "_S75zZuT4qP9",
        "outputId": "c871d25a-32ee-45b7-eb2e-7140f260e91e"
      },
      "source": [
        "# Plotting boxplots to check for outliers\n",
        "#\n",
        "fig, axes = plt.subplots(nrows = 2, ncols = 2, figsize = (15, 10))\n",
        "plt.suptitle('Checking for outliers using boxplots', fontsize = 15, y = 0.92, color = 'purple')\n",
        "for ax, data, column in zip(axes.flatten(), train, num_cols):\n",
        "  sns.boxplot(train.Outcome, train[column], ax = ax, hue = train.Season, palette = 'Set1')\n",
        "  ax.set_facecolor('thistle') # Setting the background color to thistle"
      ],
      "execution_count": null,
      "outputs": [
        {
          "output_type": "display_data",
          "data": {
            "image/png": "[encoded data removed]",
            "text/plain": [
              "<Figure size 1080x720 with 4 Axes>"
            ]
          },
          "metadata": {
            "tags": [],
            "needs_background": "light"
          }
        }
      ]
    },
    {
      "cell_type": "code",
      "metadata": {
        "colab": {
          "base_uri": "https://localhost:8080/",
          "height": 868
        },
        "id": "wG4krhvi4qnX",
        "outputId": "7f021bfd-e3de-4324-d961-e99fe72abe43"
      },
      "source": [
        "#correlation \n",
        "plt.figure(figsize=(15,15))\n",
        "sns.heatmap(train.corr(),annot=True)\n",
        "plt.savefig('Flight_corr_heatmap.png')"
      ],
      "execution_count": null,
      "outputs": [
        {
          "output_type": "display_data",
          "data": {
            "image/png": "[encoded data removed]",
            "text/plain": [
              "<Figure size 1080x1080 with 2 Axes>"
            ]
          },
          "metadata": {
            "tags": [],
            "needs_background": "light"
          }
        }
      ]
    },
    {
      "cell_type": "markdown",
      "metadata": {
        "id": "sSWg2TqNoCsT"
      },
      "source": [
        "The variables that are most highly correlated are the Scheduled Time of Arrival Hour and Scheduled Time of Departure Hour with a correlation of 0.51"
      ]
    },
    {
      "cell_type": "code",
      "metadata": {
        "id": "18RpQf-vGqG4"
      },
      "source": [
        "#Change the Season Datatype to Category\n",
        "train['Season'] = train['Season'].astype('category')\n",
        "test['Season'] = test['Season'].astype('category')"
      ],
      "execution_count": 29,
      "outputs": []
    },
    {
      "cell_type": "code",
      "metadata": {
        "id": "5qSjV1sh-tuZ",
        "colab": {
          "base_uri": "https://localhost:8080/"
        },
        "outputId": "8d4dc951-d163-4c91-996f-c11214187a2e"
      },
      "source": [
        "# Modelling\n",
        "# Set X and y ie the independent and dependent variables\n",
        "to_drop = ['id','delayed_minutes','Outcome','date_flight', 'scheduled_time_departure',\t'scheduled_time_arrival']\n",
        "features_columns = [col for col in train.columns if col not in to_drop]\n",
        "X,y  = train[features_columns], train['delayed_minutes'].ravel()\n",
        "\n",
        "categ_feat =np.where(X.dtypes == 'category')[0]\n",
        "test_data = test.drop(columns=(['id','date_flight', 'scheduled_time_departure','scheduled_time_arrival']),axis=1)\n",
        "#Cross validation\n",
        "folds = KFold(n_splits = 10)\n",
        "feature_importance_df = pd.DataFrame()\n",
        "\n",
        "predictions = []\n",
        "y_preds, y_trues = [], []\n",
        "rmses = []\n",
        "for i,( train_index, test_index) in enumerate(folds.split(X, y)):\n",
        "  X_train, X_test, y_train, y_test = X.iloc[train_index], X.iloc[test_index], y[train_index], y[test_index]\n",
        "  \n",
        "  wrapped_model = CatBoostRegressor(n_estimators=40000, eval_metric='RMSE',task_type= 'GPU', early_stopping_rounds=100)\n",
        " \n",
        "  wrapped_model.fit(X_train, y_train, eval_set=[(X_test, y_test)],cat_features=categ_feat, verbose = False)\n",
        "  preds = wrapped_model.predict(test_data)\n",
        "  y_pred = wrapped_model.predict(X_test)\n",
        "  y_trues.extend(y_test)\n",
        "  y_preds.extend(y_pred)\n",
        "  predictions.append(preds)\n",
        "  rmse = mean_squared_error(y_test, y_pred)**0.5\n",
        "  print(i, rmse)\n",
        "  rmses.append(rmse)\n",
        "print(f'Mean RMSE: {np.mean(rmses)}')\n",
        "mpreds = np.mean(predictions, 0)\n",
        "\n",
        "\n",
        "\n"
      ],
      "execution_count": 39,
      "outputs": [
        {
          "output_type": "stream",
          "text": [
            "0 86.14064450255624\n",
            "1 90.01072683311257\n",
            "2 86.54183940790566\n",
            "3 122.01355803001873\n",
            "4 124.32405035199929\n",
            "5 138.19939553767074\n",
            "6 78.43727107611848\n",
            "7 141.8870882436999\n",
            "8 139.52122116999178\n",
            "9 127.52991726294626\n",
            "Mean RMSE: 113.46057124160197\n"
          ],
          "name": "stdout"
        }
      ]
    },
    {
      "cell_type": "markdown",
      "metadata": {
        "id": "zsK7JxFxovDW"
      },
      "source": [
        "The RMSE is 113 minutes."
      ]
    },
    {
      "cell_type": "code",
      "metadata": {
        "id": "RVCBvVzf-uFd",
        "colab": {
          "base_uri": "https://localhost:8080/",
          "height": 590
        },
        "outputId": "252d37f5-5ce0-4663-b6c9-310207030cf0"
      },
      "source": [
        "\n",
        "importances = pd.DataFrame({'feature':X.columns,'importance':np.round( wrapped_model.feature_importances_,3)})\n",
        "importances = importances.sort_values('importance',ascending=False).set_index('feature')\n",
        "print(\"The feature importances are shown below: \",importances)\n",
        "      # bar plot of the feature importances\n",
        "      \n",
        "importances.plot(kind = 'barh')\n",
        "plt.title(\"Important features in determining whether a flight is delayed \")\n",
        "plt.ylabel('Feature importances')\n",
        "plt.xlabel('Features')\n",
        "plt.show()"
      ],
      "execution_count": 40,
      "outputs": [
        {
          "output_type": "stream",
          "text": [
            "The feature importances are shown below:                   importance\n",
            "feature                    \n",
            "status               32.476\n",
            "Season               15.750\n",
            "flight_number        11.424\n",
            "arrival_point         9.950\n",
            "time_diff             9.831\n",
            "departure_point       7.561\n",
            "day_datop             5.334\n",
            "aircraft_code         3.008\n",
            "sta_hr                1.783\n",
            "sta_min               1.482\n",
            "std_min               0.894\n",
            "std_hr                0.387\n",
            "month_datop           0.120\n",
            "year_datop            0.000\n"
          ],
          "name": "stdout"
        },
        {
          "output_type": "display_data",
          "data": {
            "image/png": "[encoded data removed]",
            "text/plain": [
              "<Figure size 432x288 with 1 Axes>"
            ]
          },
          "metadata": {
            "tags": [],
            "needs_background": "light"
          }
        }
      ]
    },
    {
      "cell_type": "markdown",
      "metadata": {
        "id": "uZfgvTgDkz0P"
      },
      "source": [
        "Some important features include Status,Season,Time_diff, Arrival_point and departure point."
      ]
    },
    {
      "cell_type": "markdown",
      "metadata": {
        "id": "uU4KTqxTpd6C"
      },
      "source": [
        "**Conclusion**\n",
        "\n",
        "Inorder to improve RMSE we need:\n",
        "\n",
        "1.Some additional features like ratio of airport capacity and Tunisia's population can also be helpful\n",
        "\n",
        "2.High level feature on departure time like 'early morning','morning','afternoon','evening','night' can be created.\n",
        "\n",
        "3.Mean encoding of Categorical variables with smoothing can also be important where categorical values are large in number\n",
        "\n",
        "4.Binning less occurring of values for some categorical variables\n",
        "\n",
        "5.Data on whether Flights were direct or connecting flights\n",
        "\n",
        "6.Removing Bias from dataset like some delays are unpredictable like delay eg Weather uncertainity or Weather data.\n",
        "\n",
        "7.Hyperparameter Tuning can also be performed but as of now hardware resource (less computation power) is constraint.\n",
        "\n",
        "8.Experiment with Ensemble, Stacking techniques can also be experimented to improve results."
      ]
    }
  ]
}